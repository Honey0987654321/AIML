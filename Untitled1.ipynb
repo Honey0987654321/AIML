{
  "nbformat": 4,
  "nbformat_minor": 0,
  "metadata": {
    "colab": {
      "provenance": []
    },
    "kernelspec": {
      "name": "python3",
      "display_name": "Python 3"
    },
    "language_info": {
      "name": "python"
    }
  },
  "cells": [
    {
      "cell_type": "code",
      "execution_count": null,
      "metadata": {
        "id": "kqTy2Vc78Pnm"
      },
      "outputs": [],
      "source": [
        "# Input the number of nodes and edges\n",
        "n = int(input(\"Enter number of nodes: \"))\n",
        "e = int(input(\"Enter number of edges: \"))\n",
        "\n",
        "# Create a graph using defaultdict\n",
        "graph = defaultdict(list)\n",
        "\n",
        "# Input edges\n",
        "for _ in range(e):\n",
        "    i, j = map(int, input(\"Enter edge (from to): \").split())\n",
        "    graph[i].append(j)  # Add directed edge from i to j\n",
        "\n",
        "# Depth-Limited Search function\n",
        "def dfs(v, goal, limit):\n",
        "    if v == goal:  # If the current node is the goal, return success\n",
        "        return 1\n",
        "\n",
        "    for neighbor in graph[v]:  # Iterate through neighbors of the current node\n",
        "        if limit - 1 >= 0:  # Check if depth limit allows further traversal\n",
        "            if dfs(neighbor, goal, limit - 1) != -1:  # Recursive call\n",
        "                return 1\n",
        "    return -1  # If no path found within the depth limit\n",
        "\n",
        "# Input goal node and depth limit\n",
        "goal = int(input(\"Enter goal node: \"))\n",
        "limit = int(input(\"Enter depth limit: \"))\n",
        "\n",
        "# Perform DFS from the starting node (assumed to be 0)\n",
        "result = dfs(0, goal, limit)\n",
        "\n",
        "# Output the result\n",
        "if result == -1:\n",
        "    print(\"Goal not found within the depth limit.\")\n",
        "else:\n",
        "    print(\"Goal found within the depth limit.\")\n",
        "\n"
      ]
    }
  ]
}